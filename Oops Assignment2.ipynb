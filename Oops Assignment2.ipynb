{
 "cells": [
  {
   "cell_type": "code",
   "execution_count": 3,
   "id": "199ee917-caac-4739-bdc4-e62dda5c8bf9",
   "metadata": {},
   "outputs": [],
   "source": [
    "# Q1. What is Abstraction in OOps? Explain with an example.\n",
    "# Ans :\n",
    "\n",
    "# Abstraction is one of the four fundamental principles of object-oriented programming (OOP),\n",
    "# along with encapsulation, inheritance, and polymorphism. Abstraction in OOP refers to the\n",
    "# concept of simplifying complex systems by breaking them down into smaller, more manageable\n",
    "# parts while hiding unnecessary details. It involves creating abstract classes or interfaces\n",
    "# o define the common structure and behavior of related objects, without providing a complete implementation.\n",
    "\n",
    "# Example :\n",
    "\n",
    "import abc\n",
    "class pwskills:\n",
    "    \n",
    "    @abc.abstractmethod\n",
    "    def students_details(self):\n",
    "        pass\n",
    "    \n",
    "    @abc.abstractmethod\n",
    "    def students_assignment(self):\n",
    "        pass\n",
    "    \n",
    "    @abc.abstractmethod\n",
    "    def student_marks(self):\n",
    "        pass"
   ]
  },
  {
   "cell_type": "code",
   "execution_count": 4,
   "id": "f79eac8c-5460-47da-a2fe-79b9b043eb31",
   "metadata": {},
   "outputs": [],
   "source": [
    "class student_details(pwskills):\n",
    "    \n",
    "    def students_details(self):\n",
    "        return \"this is a method for taking student details\"\n",
    "    \n",
    "    def students_assignment(self):\n",
    "        return \"this is the method for assin details for a particular student\""
   ]
  },
  {
   "cell_type": "code",
   "execution_count": 5,
   "id": "dac5f4df-c238-4caa-a231-6c14c951e7a1",
   "metadata": {},
   "outputs": [],
   "source": [
    "class data_science_masters(pwskills):\n",
    "    \n",
    "    def students_details(self):\n",
    "        return \"this will return a students details for data science masters\"\n",
    "    \n",
    "    def student_assignment(self):\n",
    "        return \"this will give you a student assignment details for data science masters\""
   ]
  },
  {
   "cell_type": "code",
   "execution_count": 6,
   "id": "8ecbb291-b9ae-4d0d-8dee-d694ae56db14",
   "metadata": {},
   "outputs": [
    {
     "data": {
      "text/plain": [
       "'this will return a students details for data science masters'"
      ]
     },
     "execution_count": 6,
     "metadata": {},
     "output_type": "execute_result"
    }
   ],
   "source": [
    "dsm = data_science_masters()\n",
    "dsm.students_details()"
   ]
  },
  {
   "cell_type": "code",
   "execution_count": 7,
   "id": "28a9defd-e049-4836-b176-e61b7ba17d3f",
   "metadata": {},
   "outputs": [
    {
     "data": {
      "text/plain": [
       "'this is a method for taking student details'"
      ]
     },
     "execution_count": 7,
     "metadata": {},
     "output_type": "execute_result"
    }
   ],
   "source": [
    "sd = student_details()\n",
    "sd.students_details()"
   ]
  },
  {
   "cell_type": "code",
   "execution_count": 8,
   "id": "5a8698f4-a5ca-490e-936e-8f25ddc80189",
   "metadata": {},
   "outputs": [
    {
     "name": "stdout",
     "output_type": "stream",
     "text": [
      "Circle Area: 78.5\n",
      "Rectangle Area: 24\n"
     ]
    }
   ],
   "source": [
    "# Q2. Differentiate between Abstraction and Encapsulation. Explain with an example.\n",
    "# Ans :\n",
    "\n",
    "# Abstraction and encapsulation are two fundamental concepts in object-oriented programming (OOP)\n",
    "# that are often used together but serve different purposes. Here's a differentiation between the two concepts in Python, along with examples:\n",
    "\n",
    "# Abstraction\n",
    "# Purpose:\n",
    "\n",
    "# Abstraction is about simplifying complex systems by modeling classes or objects at the right level of detail,\n",
    "# focusing on their essential properties and behaviors while hiding unnecessary complexity.\n",
    "\n",
    "# How it is achieved:\n",
    "# In Python, abstraction is often achieved through abstract classes and methods, which define a blueprint for a class but leave some methods or attributes to be implemented by subclasses.\n",
    "\n",
    "# Example -\n",
    "\n",
    "from abc import ABC, abstractmethod\n",
    "\n",
    "class Shape(ABC):  # Abstract class\n",
    "    @abstractmethod\n",
    "    def area(self):\n",
    "        pass\n",
    "\n",
    "class Circle(Shape):\n",
    "    def __init__(self, radius):\n",
    "        self.radius = radius\n",
    "\n",
    "    def area(self):\n",
    "        return 3.14 * self.radius * self.radius\n",
    "\n",
    "class Rectangle(Shape):\n",
    "    def __init__(self, length, width):\n",
    "        self.length = length\n",
    "        self.width = width\n",
    "\n",
    "    def area(self):\n",
    "        return self.length * self.width\n",
    "\n",
    "# Usage\n",
    "circle = Circle(5)\n",
    "rectangle = Rectangle(4, 6)\n",
    "\n",
    "print(\"Circle Area:\", circle.area())\n",
    "print(\"Rectangle Area:\", rectangle.area())"
   ]
  },
  {
   "cell_type": "code",
   "execution_count": 9,
   "id": "40980e22-fe0f-4be8-9d47-f9d4b89a3369",
   "metadata": {},
   "outputs": [
    {
     "name": "stdout",
     "output_type": "stream",
     "text": [
      "Student Name: Alice\n",
      "Student Roll Number: 101\n",
      "Updated Student Roll Number: 102\n"
     ]
    }
   ],
   "source": [
    "# Encapsulation:\n",
    "\n",
    "# Purpose:\n",
    "\n",
    "# Encapsulation is the concept of bundling the data (attributes) and methods (functions) that operate on that\n",
    "# data within a single unit, a class. It restricts direct access to certain data and enforces controlled access through methods.\n",
    "\n",
    "# How it is achieved:\n",
    "\n",
    "# In Python, encapsulation is primarily achieved through access control mechanisms, such as public, protected,\n",
    "# and private attributes and methods. Conventionally, private attributes are prefixed with a double underscore (__).\n",
    "\n",
    "# Example -\n",
    "\n",
    "class Student:\n",
    "    def __init__(self, name, roll_number):\n",
    "        self.name = name\n",
    "        self.__roll_number = roll_number  # Private attribute\n",
    "\n",
    "    def get_roll_number(self):\n",
    "        return self.__roll_number\n",
    "\n",
    "    def set_roll_number(self, roll_number):\n",
    "        if roll_number > 0:\n",
    "            self.__roll_number = roll_number\n",
    "\n",
    "# Usage\n",
    "student1 = Student(\"Alice\", 101)\n",
    "print(\"Student Name:\", student1.name)\n",
    "\n",
    "# Accessing the private attribute using the getter method\n",
    "print(\"Student Roll Number:\", student1.get_roll_number())\n",
    "\n",
    "# Modifying the private attribute using the setter method\n",
    "student1.set_roll_number(102)\n",
    "print(\"Updated Student Roll Number:\", student1.get_roll_number())"
   ]
  },
  {
   "cell_type": "code",
   "execution_count": 11,
   "id": "8586f8f5-ac0a-402c-a9ee-ec83fd7d8c82",
   "metadata": {},
   "outputs": [],
   "source": [
    "# Q3. What is abc module in python? Why is it used?\n",
    "# Ans :\n",
    "\n",
    "# abc module: The abc module in Python stands for \"Abstract Base Classes.\" It is a module that provides the infrastructure\n",
    "# for defining abstract base classes in Python. Abstract base classes are a way to define interfaces or blueprints for classes,\n",
    "# specifying a set of methods that must be implemented by any concrete (sub)class.The primary purpose of the 'abc' module is to\n",
    "# support abstract classes and ensure that certain methods are implemented in derived classes.\n",
    "\n",
    "# Why abc module is used in python:\n",
    "# The 'abc' module in Python is used in object-oriented programming (OOP) to facilitate and enforce good design practices\n",
    "# and code organization. It primarily serves three important purposes like 1.Defining Abstract Base Classes (ABCs),\n",
    "# 2.Enforcing Method Implementation,3.Providing Clear Interfaces."
   ]
  },
  {
   "cell_type": "code",
   "execution_count": 12,
   "id": "eec8be2e-e02d-41e5-920f-e13eafff2ba1",
   "metadata": {},
   "outputs": [],
   "source": [
    "# Q4. How can we achieve data abstraction?\n",
    "# Ans :\n",
    "\n",
    "# Data abstraction in Python is achieved by using classes and object-oriented programming (OOP) concepts.\n",
    "# Data abstraction is the process of hiding the complex implementation details of data and exposing only\n",
    "# the essential features or properties to the outside world. t allows you to create classes that represent\n",
    "# real-world entities and provide a well-defined interface for interacting with the data while hiding the internal details."
   ]
  },
  {
   "cell_type": "code",
   "execution_count": null,
   "id": "36a9617a-5f0a-4a1e-8f80-bbbd9e7bcb72",
   "metadata": {},
   "outputs": [],
   "source": [
    "# Q5. Can we create an instance of an abstract class? Explain your answer.\n",
    "# Ans :\n",
    "\n",
    "No, you cannot create an instance of an abstract class in Python. Abstract classes are meant to serve as templates\n",
    "or blueprints for other classes and are not meant to be instantiated directly. They are designed to define a common interface or set of methods that must be implemented by their concrete subclasses."
   ]
  }
 ],
 "metadata": {
  "kernelspec": {
   "display_name": "Python 3 (ipykernel)",
   "language": "python",
   "name": "python3"
  },
  "language_info": {
   "codemirror_mode": {
    "name": "ipython",
    "version": 3
   },
   "file_extension": ".py",
   "mimetype": "text/x-python",
   "name": "python",
   "nbconvert_exporter": "python",
   "pygments_lexer": "ipython3",
   "version": "3.10.8"
  }
 },
 "nbformat": 4,
 "nbformat_minor": 5
}
